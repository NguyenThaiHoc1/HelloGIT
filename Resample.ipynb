{
 "cells": [
  {
   "cell_type": "code",
   "execution_count": 141,
   "metadata": {},
   "outputs": [],
   "source": [
    "import tensorflow as tf\n",
    "import xlrd\n",
    "import pandas as pd\n",
    "import os\n",
    "import math\n",
    "import numpy as np\n",
    "import matplotlib.pyplot as plt\n",
    "import seaborn as sns\n",
    "%matplotlib inline\n",
    "\n"
   ]
  },
  {
   "cell_type": "code",
   "execution_count": 18,
   "metadata": {},
   "outputs": [],
   "source": [
    "def read_dataset(path_file):\n",
    "    dataframe = pd.read_excel(path_file, usecols=[i for i in range(1, 32)])\n",
    "    return dataframe\n",
    "\n",
    "def normal_function(row):\n",
    "    max_in_rows = row.max()\n",
    "    min_in_rows = row.min()\n",
    "    for i, item in enumerate(row):\n",
    "        if max_in_rows == min_in_rows:\n",
    "            row[i] = 0\n",
    "        else:\n",
    "            row[i] = (row[i] - min_in_rows) / (max_in_rows - min_in_rows)\n",
    "    return row "
   ]
  },
  {
   "cell_type": "code",
   "execution_count": 19,
   "metadata": {},
   "outputs": [
    {
     "data": {
      "text/plain": [
       "['/Users/thaihoc/Downloads/VJP/result_output_features_merge_1/output_featrures_0.xlsx',\n",
       " '/Users/thaihoc/Downloads/VJP/result_output_features_merge_1/output_featrures_10.xlsx',\n",
       " '/Users/thaihoc/Downloads/VJP/result_output_features_merge_1/output_featrures_12.xlsx',\n",
       " '/Users/thaihoc/Downloads/VJP/result_output_features_merge_1/output_featrures_2.xlsx',\n",
       " '/Users/thaihoc/Downloads/VJP/result_output_features_merge_1/output_featrures_4.xlsx',\n",
       " '/Users/thaihoc/Downloads/VJP/result_output_features_merge_1/output_featrures_6.xlsx',\n",
       " '/Users/thaihoc/Downloads/VJP/result_output_features_merge_1/output_featrures_8.xlsx',\n",
       " '/Users/thaihoc/Downloads/VJP/result_output_features_merge_1/output_picker_1_2_4_7_ALL.xlsx',\n",
       " '/Users/thaihoc/Downloads/VJP/result_output_features_merge_1/output_picker_8_5_6_ALL.xlsx']"
      ]
     },
     "execution_count": 19,
     "metadata": {},
     "output_type": "execute_result"
    }
   ],
   "source": [
    "root_file = os.path.abspath('')\n",
    "folder_data_result = \"result_output_features_merge_1\"\n",
    "folder_path_data_result = os.path.join(root_file, folder_data_result)\n",
    "list_data_result = [os.path.abspath(os.path.join(folder_data_result, data)) for data in sorted(os.listdir(folder_path_data_result))]\n",
    "list_data_result"
   ]
  },
  {
   "cell_type": "code",
   "execution_count": 20,
   "metadata": {},
   "outputs": [],
   "source": [
    "# TRAIN\n",
    "df_extract_feature = read_dataset(list_data_result[7])\n",
    "df_extract_feature_notNan = df_extract_feature[df_extract_feature[30] > 0]\n",
    "labels_picker = df_extract_feature_notNan.iloc[:, 30]\n",
    "labels_picker = pd.DataFrame(labels_picker)\n",
    "labels_picker.columns = ['labels']\n",
    "data_picker = df_extract_feature_notNan.iloc[:, :30]\n",
    "# normalization \n",
    "df_extracted_feature = data_picker.apply(normal_function, axis=1)\n",
    "df_extracted_feature[30] = labels_picker.labels - 1"
   ]
  },
  {
   "cell_type": "code",
   "execution_count": 133,
   "metadata": {},
   "outputs": [],
   "source": [
    "# TEST\n",
    "df_extract_feature_test = read_dataset(list_data_result[8])\n",
    "df_extract_feature_test_notname = df_extract_feature_test[df_extract_feature_test[30] > 0]\n",
    "labels_picker_test = df_extract_feature_test_notname.iloc[:, 30]\n",
    "labels_picker_test = pd.DataFrame(labels_picker_test)\n",
    "labels_picker_test.columns = ['labels']\n",
    "data_picker_test = df_extract_feature_test_notname.iloc[:, :30]\n",
    "# normalization \n",
    "df_extracted_feature_test = data_picker_test.apply(normal_function, axis=1)\n",
    "labels_picker_test = labels_picker_test - 1\n",
    "# df_extracted_feature_test[30] = labels_picker_test.labels - 1"
   ]
  },
  {
   "cell_type": "code",
   "execution_count": null,
   "metadata": {},
   "outputs": [],
   "source": []
  },
  {
   "cell_type": "code",
   "execution_count": 22,
   "metadata": {},
   "outputs": [
    {
     "data": {
      "text/plain": [
       "<matplotlib.axes._subplots.AxesSubplot at 0x12ccc30b8>"
      ]
     },
     "execution_count": 22,
     "metadata": {},
     "output_type": "execute_result"
    },
    {
     "data": {
      "image/png": "[encoded data removed]",
      "text/plain": [
       "<Figure size 1080x720 with 1 Axes>"
      ]
     },
     "metadata": {
      "needs_background": "light"
     },
     "output_type": "display_data"
    }
   ],
   "source": [
    "df_extracted_feature[30].value_counts().plot(kind='bar', title='Picker 03', figsize=(15, 10),align='center')"
   ]
  },
  {
   "cell_type": "code",
   "execution_count": 51,
   "metadata": {},
   "outputs": [],
   "source": [
    "# tu do thi minh se chon thang 6\n",
    "number_records_fraud = len(df_extracted_feature[df_extracted_feature[30] == 6]) # so luong example\n",
    "fraud_indices = np.array(df_extracted_feature[df_extracted_feature[30] == 6].index) # vi tri xuat hien"
   ]
  },
  {
   "cell_type": "code",
   "execution_count": 52,
   "metadata": {},
   "outputs": [],
   "source": [
    "normal_indices_0 = df_extracted_feature[df_extracted_feature[30] == 0].index\n",
    "normal_indices_1 = df_extracted_feature[df_extracted_feature[30] == 1].index\n",
    "normal_indices_2 = df_extracted_feature[df_extracted_feature[30] == 2].index\n",
    "normal_indices_3 = df_extracted_feature[df_extracted_feature[30] == 3].index\n",
    "normal_indices_4 = df_extracted_feature[df_extracted_feature[30] == 4].index\n",
    "normal_indices_5 = df_extracted_feature[df_extracted_feature[30] == 5].index"
   ]
  },
  {
   "cell_type": "code",
   "execution_count": 53,
   "metadata": {},
   "outputs": [],
   "source": [
    "random_normal_indices_0 = np.random.choice(normal_indices_0, number_records_fraud, replace = False)\n",
    "random_normal_indices_0 = np.array(random_normal_indices_0)\n",
    "\n",
    "random_normal_indices_1 = np.random.choice(normal_indices_1, number_records_fraud, replace = False)\n",
    "random_normal_indices_1 = np.array(random_normal_indices_1)\n",
    "\n",
    "random_normal_indices_2 = np.random.choice(normal_indices_2, number_records_fraud, replace = False)\n",
    "random_normal_indices_2 = np.array(random_normal_indices_2)\n",
    "\n",
    "random_normal_indices_3 = np.random.choice(normal_indices_3, number_records_fraud, replace = False)\n",
    "random_normal_indices_3 = np.array(random_normal_indices_3)\n",
    "\n",
    "random_normal_indices_4 = np.random.choice(normal_indices_4, number_records_fraud, replace = False)\n",
    "random_normal_indices_4 = np.array(random_normal_indices_4)\n",
    "\n",
    "random_normal_indices_5 = np.random.choice(normal_indices_5, number_records_fraud, replace = False)\n",
    "random_normal_indices_5 = np.array(random_normal_indices_5)"
   ]
  },
  {
   "cell_type": "code",
   "execution_count": 54,
   "metadata": {},
   "outputs": [
    {
     "data": {
      "text/plain": [
       "array([ 6316, 10936,  2768,  5178,  5207,  6400,  7917,  5429,  9712,\n",
       "        2961,  2479,  7673,  5156,  9292,  8305, 10246,  7973,  3344,\n",
       "        7969,  1238,  2637,  1896,   628,  5377,  6843,  4360,  7573,\n",
       "        5338,  5020,  6986,  6551,  4141,  2618,    16, 10487,  9351,\n",
       "        3596,  3233,  5996,  7821,  3985,  1099,  6617,  9693,  1883,\n",
       "        3055,  8806,  9578, 10699,  5540, 10493,  4196, 10219,  1033,\n",
       "        4896,  4947,   293,  1585,  5115,  9080,  7858,  7103,  4923,\n",
       "        1340,  2599,  1268,  8151,  6732,  5950,  1022,  8837,  8937,\n",
       "        6378,  1130,  2836,  1465,  1986,  8396,  1909,  2610,  9046,\n",
       "        7419,  4170, 10456,  4940,  2794,  4720, 10596,  6868,  4915,\n",
       "        3094,  3265,  4380,  3481,  1894,  1119,  7914, 10974,  8755,\n",
       "        4135,  3027, 10059,  7508,  4332,  5592,  7354,  6767,  3625,\n",
       "        9376,  3321,  2806,  3519,  2997, 10162,  8872,  9856,  9435,\n",
       "        5387,  6731,  5787,  9134,  5276,  3585,  3686,   417,  2353,\n",
       "         189,  3779,  5434,  3764,  1048,  5505,   597,  2315,  6549,\n",
       "       10138, 10520,  1367,  3969,  8554,  7370,   894,  8778,  5782,\n",
       "        7125,  2008, 10012,  3320,  9771,  3866,  7870,  2154,  1673,\n",
       "        4086,  7421,  4941,  1750,  3581,  5849,  7430,  9580,  4296,\n",
       "        6111,  6563,  1749, 10808,  9159,  5356,  4735,  7263,  6020,\n",
       "        9870,  6786,  5211,  5125,  6733,  1706,  2791,  1251,  3206,\n",
       "        6577,   599,  2401,  6914,  5230,  5863,  7680,  9048,  6710,\n",
       "        2194,  3947, 11012,  7393,  1786,  6599,  3125,  4252,  8458,\n",
       "        5831,  3180,  9025,  6406,   798,  5321,  6699,   195,   427,\n",
       "        1855,  1118,  7163,  1574,  1663,  3132,  8745,  6190,  2724,\n",
       "       10806,  2003,  9236,  8773,  3626,  2918,  3601,  8495,  2248,\n",
       "        2965,  3073,  2531,   721,  8125,  9573,  6627,  9823,  6014,\n",
       "        7851,  4142,  7661, 10488,  4033,  6913,  8903,  6089,  9659,\n",
       "        1037,  6328,   697,  7565,  4216,  2723,  4359,  8674,  4734,\n",
       "        3594,  7454,  5495,   792, 10755,   939,  3572, 10438,  6517,\n",
       "        9312,  7629,  7387,  5323,  4396,   434,  8740,  6080,  3577,\n",
       "        9913,  6419,  6965,  8990,  7930,  3261, 11038,  1325,  9838,\n",
       "        6927,  6514,  9701,  6976, 10898,  1648,  5248,   944,  2349,\n",
       "        7452,  1788,  5466,  8174,  7432,  5301,  7349,  9603,  6451,\n",
       "        5316,  2332,  6792,  6645,  5725,   164, 11053,  8812,  9755,\n",
       "        7130,  4042,  2403,  9491,  5623,  2777,  3093,  6657,  4684,\n",
       "        3162,  2085, 10259,  7395,  7637,   397, 10778,  3938,  6847,\n",
       "         994])"
      ]
     },
     "execution_count": 54,
     "metadata": {},
     "output_type": "execute_result"
    }
   ],
   "source": [
    "random_normal_indices_0"
   ]
  },
  {
   "cell_type": "code",
   "execution_count": 77,
   "metadata": {},
   "outputs": [],
   "source": [
    "under_sample_indices = np.concatenate([fraud_indices,\n",
    "                                       random_normal_indices_0,\n",
    "                                       random_normal_indices_1,\n",
    "                                       random_normal_indices_2,\n",
    "                                       random_normal_indices_3,\n",
    "                                       random_normal_indices_4,\n",
    "                                       random_normal_indices_5])"
   ]
  },
  {
   "cell_type": "code",
   "execution_count": 78,
   "metadata": {},
   "outputs": [],
   "source": [
    "under_sample_data = df_extracted_feature.loc[under_sample_indices,:]"
   ]
  },
  {
   "cell_type": "code",
   "execution_count": 89,
   "metadata": {},
   "outputs": [
    {
     "data": {
      "text/plain": [
       "<matplotlib.axes._subplots.AxesSubplot at 0x12cbcc048>"
      ]
     },
     "execution_count": 89,
     "metadata": {},
     "output_type": "execute_result"
    },
    {
     "data": {
      "image/png": "[encoded data removed]",
      "text/plain": [
       "<Figure size 1080x720 with 1 Axes>"
      ]
     },
     "metadata": {
      "needs_background": "light"
     },
     "output_type": "display_data"
    }
   ],
   "source": [
    "under_sample_data[30].value_counts().plot(kind='bar', title='Data Under Resample', figsize=(15, 10),align='center')"
   ]
  },
  {
   "cell_type": "code",
   "execution_count": 81,
   "metadata": {},
   "outputs": [
    {
     "name": "stderr",
     "output_type": "stream",
     "text": [
      "/Users/thaihoc/Desktop/test/virtual_enviroment_ml/lib/python3.6/site-packages/ipykernel_launcher.py:1: DeprecationWarning: \n",
      ".ix is deprecated. Please use\n",
      ".loc for label based indexing or\n",
      ".iloc for positional indexing\n",
      "\n",
      "See the documentation here:\n",
      "http://pandas.pydata.org/pandas-docs/stable/indexing.html#ix-indexer-is-deprecated\n",
      "  \"\"\"Entry point for launching an IPython kernel.\n",
      "/Users/thaihoc/Desktop/test/virtual_enviroment_ml/lib/python3.6/site-packages/ipykernel_launcher.py:2: DeprecationWarning: \n",
      ".ix is deprecated. Please use\n",
      ".loc for label based indexing or\n",
      ".iloc for positional indexing\n",
      "\n",
      "See the documentation here:\n",
      "http://pandas.pydata.org/pandas-docs/stable/indexing.html#ix-indexer-is-deprecated\n",
      "  \n"
     ]
    }
   ],
   "source": [
    "X_undersample = under_sample_data.ix[:, under_sample_data.columns != 30]\n",
    "y_undersample = under_sample_data.ix[:, under_sample_data.columns == 30]"
   ]
  },
  {
   "cell_type": "code",
   "execution_count": 85,
   "metadata": {},
   "outputs": [
    {
     "name": "stdout",
     "output_type": "stream",
     "text": [
      "Percentage of normal transactions _ 0:  0.14285714285714285\n",
      "Percentage of normal transactions _ 1:  0.14285714285714285\n",
      "Percentage of normal transactions _ 2:  0.14285714285714285\n",
      "Percentage of normal transactions _ 3:  0.14285714285714285\n",
      "Percentage of normal transactions _ 4:  0.14285714285714285\n",
      "Percentage of normal transactions _ 5:  0.14285714285714285\n",
      "Percentage of fraud transactions  _ 6:  0.14285714285714285\n",
      "Total number of transactions in resampled data:  2275\n"
     ]
    }
   ],
   "source": [
    "# Showing ratio\n",
    "print(\"Percentage of normal transactions _ 0: \", len(under_sample_data[under_sample_data[30] == 0])/len(under_sample_data))\n",
    "print(\"Percentage of normal transactions _ 1: \", len(under_sample_data[under_sample_data[30] == 1])/len(under_sample_data))\n",
    "print(\"Percentage of normal transactions _ 2: \", len(under_sample_data[under_sample_data[30] == 2])/len(under_sample_data))\n",
    "print(\"Percentage of normal transactions _ 3: \", len(under_sample_data[under_sample_data[30] == 3])/len(under_sample_data))\n",
    "print(\"Percentage of normal transactions _ 4: \", len(under_sample_data[under_sample_data[30] == 4])/len(under_sample_data))\n",
    "print(\"Percentage of normal transactions _ 5: \", len(under_sample_data[under_sample_data[30] == 5])/len(under_sample_data))\n",
    "print(\"Percentage of fraud transactions  _ 6: \", len(under_sample_data[under_sample_data[30] == 6])/len(under_sample_data))\n",
    "print(\"Total number of transactions in resampled data: \", len(under_sample_data))"
   ]
  },
  {
   "cell_type": "code",
   "execution_count": 86,
   "metadata": {},
   "outputs": [
    {
     "data": {
      "text/html": [
       "<div>\n",
       "<style scoped>\n",
       "    .dataframe tbody tr th:only-of-type {\n",
       "        vertical-align: middle;\n",
       "    }\n",
       "\n",
       "    .dataframe tbody tr th {\n",
       "        vertical-align: top;\n",
       "    }\n",
       "\n",
       "    .dataframe thead th {\n",
       "        text-align: right;\n",
       "    }\n",
       "</style>\n",
       "<table border=\"1\" class=\"dataframe\">\n",
       "  <thead>\n",
       "    <tr style=\"text-align: right;\">\n",
       "      <th></th>\n",
       "      <th>0</th>\n",
       "      <th>1</th>\n",
       "      <th>2</th>\n",
       "      <th>3</th>\n",
       "      <th>4</th>\n",
       "      <th>5</th>\n",
       "      <th>6</th>\n",
       "      <th>7</th>\n",
       "      <th>8</th>\n",
       "      <th>9</th>\n",
       "      <th>...</th>\n",
       "      <th>20</th>\n",
       "      <th>21</th>\n",
       "      <th>22</th>\n",
       "      <th>23</th>\n",
       "      <th>24</th>\n",
       "      <th>25</th>\n",
       "      <th>26</th>\n",
       "      <th>27</th>\n",
       "      <th>28</th>\n",
       "      <th>29</th>\n",
       "    </tr>\n",
       "  </thead>\n",
       "  <tbody>\n",
       "    <tr>\n",
       "      <th>60</th>\n",
       "      <td>0.977988</td>\n",
       "      <td>0.978362</td>\n",
       "      <td>0.978218</td>\n",
       "      <td>1.000000</td>\n",
       "      <td>0.978784</td>\n",
       "      <td>0.978066</td>\n",
       "      <td>0.978396</td>\n",
       "      <td>0.978771</td>\n",
       "      <td>0.978550</td>\n",
       "      <td>0.993038</td>\n",
       "      <td>...</td>\n",
       "      <td>0.978657</td>\n",
       "      <td>0.984828</td>\n",
       "      <td>0.978464</td>\n",
       "      <td>0.978066</td>\n",
       "      <td>0.768228</td>\n",
       "      <td>0.666500</td>\n",
       "      <td>0.973822</td>\n",
       "      <td>0.000000</td>\n",
       "      <td>0.720078</td>\n",
       "      <td>0.743769</td>\n",
       "    </tr>\n",
       "    <tr>\n",
       "      <th>104</th>\n",
       "      <td>0.588501</td>\n",
       "      <td>0.590295</td>\n",
       "      <td>0.588896</td>\n",
       "      <td>0.812519</td>\n",
       "      <td>0.591874</td>\n",
       "      <td>0.589069</td>\n",
       "      <td>0.588716</td>\n",
       "      <td>0.590156</td>\n",
       "      <td>0.589432</td>\n",
       "      <td>0.675694</td>\n",
       "      <td>...</td>\n",
       "      <td>0.590001</td>\n",
       "      <td>0.610344</td>\n",
       "      <td>0.589933</td>\n",
       "      <td>0.589069</td>\n",
       "      <td>0.205828</td>\n",
       "      <td>0.000000</td>\n",
       "      <td>0.364609</td>\n",
       "      <td>0.617179</td>\n",
       "      <td>0.576643</td>\n",
       "      <td>0.579658</td>\n",
       "    </tr>\n",
       "    <tr>\n",
       "      <th>116</th>\n",
       "      <td>0.962498</td>\n",
       "      <td>0.962858</td>\n",
       "      <td>0.962676</td>\n",
       "      <td>0.972531</td>\n",
       "      <td>0.962942</td>\n",
       "      <td>0.962470</td>\n",
       "      <td>0.962547</td>\n",
       "      <td>0.963244</td>\n",
       "      <td>0.962886</td>\n",
       "      <td>1.000000</td>\n",
       "      <td>...</td>\n",
       "      <td>0.963037</td>\n",
       "      <td>0.988473</td>\n",
       "      <td>0.963229</td>\n",
       "      <td>0.962470</td>\n",
       "      <td>0.873157</td>\n",
       "      <td>0.485517</td>\n",
       "      <td>0.939821</td>\n",
       "      <td>0.000000</td>\n",
       "      <td>0.770331</td>\n",
       "      <td>0.669796</td>\n",
       "    </tr>\n",
       "    <tr>\n",
       "      <th>132</th>\n",
       "      <td>0.985674</td>\n",
       "      <td>0.985801</td>\n",
       "      <td>0.985736</td>\n",
       "      <td>0.988316</td>\n",
       "      <td>0.985808</td>\n",
       "      <td>0.985624</td>\n",
       "      <td>0.985706</td>\n",
       "      <td>0.985997</td>\n",
       "      <td>0.985829</td>\n",
       "      <td>1.000000</td>\n",
       "      <td>...</td>\n",
       "      <td>0.985940</td>\n",
       "      <td>0.994342</td>\n",
       "      <td>0.985957</td>\n",
       "      <td>0.985624</td>\n",
       "      <td>0.953649</td>\n",
       "      <td>0.658830</td>\n",
       "      <td>0.808568</td>\n",
       "      <td>0.434742</td>\n",
       "      <td>0.922379</td>\n",
       "      <td>0.000000</td>\n",
       "    </tr>\n",
       "    <tr>\n",
       "      <th>133</th>\n",
       "      <td>0.982321</td>\n",
       "      <td>0.982547</td>\n",
       "      <td>0.982401</td>\n",
       "      <td>0.989714</td>\n",
       "      <td>0.982686</td>\n",
       "      <td>0.982467</td>\n",
       "      <td>0.982355</td>\n",
       "      <td>0.982644</td>\n",
       "      <td>0.982543</td>\n",
       "      <td>1.000000</td>\n",
       "      <td>...</td>\n",
       "      <td>0.982641</td>\n",
       "      <td>0.987179</td>\n",
       "      <td>0.982643</td>\n",
       "      <td>0.982467</td>\n",
       "      <td>0.858991</td>\n",
       "      <td>0.955690</td>\n",
       "      <td>0.280323</td>\n",
       "      <td>0.720349</td>\n",
       "      <td>0.751103</td>\n",
       "      <td>0.000000</td>\n",
       "    </tr>\n",
       "  </tbody>\n",
       "</table>\n",
       "<p>5 rows × 30 columns</p>\n",
       "</div>"
      ],
      "text/plain": [
       "           0         1         2         3         4         5         6   \\\n",
       "60   0.977988  0.978362  0.978218  1.000000  0.978784  0.978066  0.978396   \n",
       "104  0.588501  0.590295  0.588896  0.812519  0.591874  0.589069  0.588716   \n",
       "116  0.962498  0.962858  0.962676  0.972531  0.962942  0.962470  0.962547   \n",
       "132  0.985674  0.985801  0.985736  0.988316  0.985808  0.985624  0.985706   \n",
       "133  0.982321  0.982547  0.982401  0.989714  0.982686  0.982467  0.982355   \n",
       "\n",
       "           7         8         9     ...           20        21        22  \\\n",
       "60   0.978771  0.978550  0.993038    ...     0.978657  0.984828  0.978464   \n",
       "104  0.590156  0.589432  0.675694    ...     0.590001  0.610344  0.589933   \n",
       "116  0.963244  0.962886  1.000000    ...     0.963037  0.988473  0.963229   \n",
       "132  0.985997  0.985829  1.000000    ...     0.985940  0.994342  0.985957   \n",
       "133  0.982644  0.982543  1.000000    ...     0.982641  0.987179  0.982643   \n",
       "\n",
       "           23        24        25        26        27        28        29  \n",
       "60   0.978066  0.768228  0.666500  0.973822  0.000000  0.720078  0.743769  \n",
       "104  0.589069  0.205828  0.000000  0.364609  0.617179  0.576643  0.579658  \n",
       "116  0.962470  0.873157  0.485517  0.939821  0.000000  0.770331  0.669796  \n",
       "132  0.985624  0.953649  0.658830  0.808568  0.434742  0.922379  0.000000  \n",
       "133  0.982467  0.858991  0.955690  0.280323  0.720349  0.751103  0.000000  \n",
       "\n",
       "[5 rows x 30 columns]"
      ]
     },
     "execution_count": 86,
     "metadata": {},
     "output_type": "execute_result"
    }
   ],
   "source": [
    "X_undersample.head()"
   ]
  },
  {
   "cell_type": "code",
   "execution_count": 92,
   "metadata": {},
   "outputs": [],
   "source": [
    "from sklearn.linear_model import LogisticRegression\n",
    "from sklearn.model_selection import KFold, cross_val_score\n",
    "from sklearn.metrics import confusion_matrix,precision_recall_curve,auc,roc_auc_score,roc_curve,recall_score,classification_report "
   ]
  },
  {
   "cell_type": "code",
   "execution_count": 138,
   "metadata": {},
   "outputs": [
    {
     "name": "stderr",
     "output_type": "stream",
     "text": [
      "/Users/thaihoc/Desktop/test/virtual_enviroment_ml/lib/python3.6/site-packages/sklearn/utils/validation.py:761: DataConversionWarning: A column-vector y was passed when a 1d array was expected. Please change the shape of y to (n_samples, ), for example using ravel().\n",
      "  y = column_or_1d(y, warn=True)\n"
     ]
    }
   ],
   "source": [
    "from sklearn.svm import SVC\n",
    "\n",
    "\n",
    "# SVM\n",
    "svm = SVC(gamma='auto')\n",
    "svm.fit(X_undersample, y_undersample)\n",
    "\n",
    "# Note: We should test on the original skewed test set\n",
    "predictions_svm = svm.predict(df_extracted_feature_test)\n",
    "\n",
    "# Compute confusion matrix\n",
    "cnf_matrix_svm = confusion_matrix(labels_picker_test,predictions_svm)"
   ]
  },
  {
   "cell_type": "code",
   "execution_count": 142,
   "metadata": {},
   "outputs": [
    {
     "data": {
      "text/plain": [
       "Text(0.5, 1.0, 'Confusion matrix for validation set')"
      ]
     },
     "execution_count": 142,
     "metadata": {},
     "output_type": "execute_result"
    },
    {
     "data": {
      "image/png": "[encoded data removed]",
      "text/plain": [
       "<Figure size 432x288 with 2 Axes>"
      ]
     },
     "metadata": {
      "needs_background": "light"
     },
     "output_type": "display_data"
    }
   ],
   "source": [
    "conf = pd.DataFrame(cnf_matrix_svm, range(7),range(7))\n",
    "sns.heatmap(conf, annot=True, fmt='g', annot_kws={\"size\": 16})\n",
    "plt.title('Confusion matrix for validation set')"
   ]
  },
  {
   "cell_type": "code",
   "execution_count": null,
   "metadata": {},
   "outputs": [],
   "source": []
  }
 ],
 "metadata": {
  "kernelspec": {
   "display_name": "Python 3",
   "language": "python",
   "name": "python3"
  },
  "language_info": {
   "codemirror_mode": {
    "name": "ipython",
    "version": 3
   },
   "file_extension": ".py",
   "mimetype": "text/x-python",
   "name": "python",
   "nbconvert_exporter": "python",
   "pygments_lexer": "ipython3",
   "version": "3.6.6"
  }
 },
 "nbformat": 4,
 "nbformat_minor": 2
}
